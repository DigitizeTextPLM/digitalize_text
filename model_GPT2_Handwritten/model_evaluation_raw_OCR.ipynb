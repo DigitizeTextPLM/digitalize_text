{
 "cells": [
  {
   "cell_type": "code",
   "execution_count": 31,
   "metadata": {},
   "outputs": [
    {
     "data": {
      "text/plain": [
       "'/home/nittaak/661'"
      ]
     },
     "execution_count": 31,
     "metadata": {},
     "output_type": "execute_result"
    }
   ],
   "source": [
    "import os \n",
    "\n",
    "os.getcwd()"
   ]
  },
  {
   "cell_type": "code",
   "execution_count": 32,
   "metadata": {},
   "outputs": [],
   "source": [
    "import os\n",
    "from torch.utils.data import Dataset\n",
    "from torch.utils.data import DataLoader\n",
    "from torch.utils.data import ConcatDataset\n",
    "from transformers import PreTrainedTokenizerFast, AutoTokenizer, AutoModelForCausalLM\n",
    "import torch\n",
    "from cosinesimcontained import get_cosine_sim_bert\n",
    "import numpy as np\n",
    "from transformers import BertTokenizer, BertModel\n",
    "\n",
    "def load_data(data_dir, labels_dir):\n",
    "    data_files = sorted([f for f in os.listdir(data_dir) if f.endswith('.txt')])\n",
    "    label_files = sorted([f for f in os.listdir(labels_dir) if f.endswith('.txt')])\n",
    "\n",
    "    dataset = []\n",
    "\n",
    "    for data_file, label_file in zip(data_files, label_files):\n",
    "        with open(os.path.join(data_dir, data_file), 'r') as df, open(os.path.join(labels_dir, label_file), 'r') as lf:\n",
    "            data = df.read()\n",
    "            label = lf.read()\n",
    "\n",
    "            dataset.append((data, label))  # Append as a tuple (data, label)\n",
    "\n",
    "    return dataset\n",
    "\n",
    "class TextDataset(Dataset):\n",
    "    def __init__(self, data, labels, transform=None):\n",
    "        self.data = data\n",
    "        self.labels = labels\n",
    "        self.transform = transform\n",
    "\n",
    "    def __len__(self):\n",
    "        return len(self.data)\n",
    "\n",
    "    def __getitem__(self, idx):\n",
    "        data = self.data[idx]\n",
    "        label = self.labels[idx]\n",
    "\n",
    "        if self.transform:\n",
    "            data = self.transform(data)\n",
    "\n",
    "        return data, label\n",
    "\n",
    "model = BertModel.from_pretrained(\"bert-base-uncased\")\n",
    "tokenizer = BertTokenizer.from_pretrained(\"bert-base-uncased\")\n",
    "\n",
    "## Validation Data\n",
    "dataset_betham_val = load_data('/home/nittaak/661/validation/Betham/OCR', '/home/nittaak/661/validation/Betham/GT/')\n",
    "dataset_IAM_val = load_data('/home/nittaak/661/validation/IAM/OCR/','/home/nittaak/661/validation/IAM/GT/')\n",
    "\n",
    "data_betham_val, labels_betham_val = zip(*dataset_betham_val)\n",
    "data_IAM_val, labels_IAM_val = zip(*dataset_IAM_val)\n",
    "\n",
    "## Test Data\n",
    "dataset_betham_test = load_data('/home/nittaak/661/test/Betham/OCR/', '/home/nittaak/661/test/Betham/GT/')\n",
    "dataset_IAM_test = load_data('/home/nittaak/661/test/IAM/OCR/','/home/nittaak/661/test/IAM/GT/')\n",
    "\n",
    "data_betham_test, labels_betham_test = zip(*dataset_betham_test)\n",
    "data_IAM_test, labels_IAM_test = zip(*dataset_IAM_test)"
   ]
  },
  {
   "cell_type": "code",
   "execution_count": 33,
   "metadata": {},
   "outputs": [],
   "source": [
    "cosine_sim_val = []\n",
    "count_val = 0\n",
    "device = torch.device(\"cuda:0\")\n",
    "model.to(device)\n",
    "\n",
    "for data, label in dataset_betham_val:\n",
    "    if data is None or label is None: \n",
    "        continue\n",
    "    if len(data) == 0 or len(label) == 0: \n",
    "        continue\n",
    "    cosine_sim_val.append( get_cosine_sim_bert(data, label, tokenizer=tokenizer, model=model,device=device))\n",
    "    count_val += 1\n",
    "\n",
    "\n",
    "for data, label in dataset_IAM_val:\n",
    "    if data is None or label is None: \n",
    "        continue\n",
    "    if len(data) == 0 or len(label) == 0: \n",
    "        continue\n",
    "    cosine_sim_val.append( get_cosine_sim_bert(data, label, tokenizer=tokenizer, model=model,device=device))\n",
    "    count_val += 1\n",
    "\n",
    "cosine_sim_val_avg = np.mean(cosine_sim_val[0])"
   ]
  },
  {
   "cell_type": "code",
   "execution_count": 34,
   "metadata": {},
   "outputs": [
    {
     "name": "stdout",
     "output_type": "stream",
     "text": [
      "cosine similarity validation average: 0.7338921888396631\n"
     ]
    }
   ],
   "source": [
    "print(f'cosine similarity validation average: {cosine_sim_val_avg}')"
   ]
  },
  {
   "cell_type": "code",
   "execution_count": 36,
   "metadata": {},
   "outputs": [],
   "source": [
    "device = torch.device(\"cuda:0\")\n",
    "model.to(device)\n",
    "\n",
    "cosine_sim_test = []\n",
    "count_test = 0\n",
    "\n",
    "for data, label in dataset_betham_test:\n",
    "    if data is None or label is None: \n",
    "        continue\n",
    "    if len(data) == 0 or len(label) == 0: \n",
    "        continue\n",
    "    cosine_sim_test.append( get_cosine_sim_bert(data, label, tokenizer=tokenizer, model=model,device=device))\n",
    "\n",
    "for data, label in dataset_IAM_test: \n",
    "    if data is None or label is None: \n",
    "        continue\n",
    "    if len(data) == 0 or len(label) == 0: \n",
    "        continue\n",
    "    cosine_sim_test.append( get_cosine_sim_bert(data, label, tokenizer=tokenizer, model=model,device=device))\n",
    "    \n",
    "cosine_sim_test_avg = np.mean(cosine_sim_test[0])"
   ]
  },
  {
   "cell_type": "code",
   "execution_count": 38,
   "metadata": {},
   "outputs": [
    {
     "name": "stdout",
     "output_type": "stream",
     "text": [
      "cosine similarity test average: 0.7383061489172741\n"
     ]
    }
   ],
   "source": [
    "print(f'cosine similarity test average: {cosine_sim_test_avg}')"
   ]
  },
  {
   "cell_type": "code",
   "execution_count": null,
   "metadata": {},
   "outputs": [],
   "source": []
  }
 ],
 "metadata": {
  "kernelspec": {
   "display_name": "Python 3 (ipykernel)",
   "language": "python",
   "name": "python3"
  },
  "language_info": {
   "codemirror_mode": {
    "name": "ipython",
    "version": 3
   },
   "file_extension": ".py",
   "mimetype": "text/x-python",
   "name": "python",
   "nbconvert_exporter": "python",
   "pygments_lexer": "ipython3",
   "version": "3.11.8"
  }
 },
 "nbformat": 4,
 "nbformat_minor": 4
}
