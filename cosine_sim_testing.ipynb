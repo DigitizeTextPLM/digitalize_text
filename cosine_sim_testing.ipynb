{
 "cells": [
  {
   "cell_type": "code",
   "execution_count": null,
   "metadata": {},
   "outputs": [],
   "source": [
    "import sys\n",
    "import os\n",
    "\n",
    "script_path = os.path.abspath(r\"C:\\replace\\with\\the\\path\\to\\your\\repo\\evaluation\\eval\") \n",
    "sys.path.append(script_path)  # this way all the pyscripts in eval will show up as libraries\n",
    "\n",
    "import cosinesimcontained as cosinesim"
   ]
  },
  {
   "cell_type": "code",
   "execution_count": 10,
   "metadata": {},
   "outputs": [
    {
     "name": "stdout",
     "output_type": "stream",
     "text": [
      "[0.97447133]\n"
     ]
    },
    {
     "data": {
      "text/plain": [
       "[0.9660716652870178, 0.8941878080368042, 0.8949460983276367]"
      ]
     },
     "execution_count": 10,
     "metadata": {},
     "output_type": "execute_result"
    }
   ],
   "source": [
    "from transformers import BertTokenizer, BertModel\n",
    "\n",
    "\n",
    "tokenizer = BertTokenizer.from_pretrained(\"bert-base-uncased\")\n",
    "model = BertModel.from_pretrained(\"bert-base-uncased\")\n",
    "\n",
    "device = cosinesim.get_gpu_most_memory() # get the gpu with most mem free (if none then cpu)\n",
    "model.to(device)\n",
    "\n",
    "gt = \"I dont want no food\"\n",
    "pred = \"No I dont want food\"\n",
    "\n",
    "print(cosinesim.get_cosine_sim_bert_single(gt, pred, model, tokenizer, device=device))\n",
    "\n",
    "gts = [['what the '], ['chicken little'], ['vegan queen']]\n",
    "preds = [['what?'], ['little bird'], ['snowflake']]\n",
    "\n",
    "cosinesim.get_cosine_sim_bert(gt_arr = gts, pred_arr = preds)"
   ]
  }
 ],
 "metadata": {
  "kernelspec": {
   "display_name": "ocr",
   "language": "python",
   "name": "python3"
  },
  "language_info": {
   "codemirror_mode": {
    "name": "ipython",
    "version": 3
   },
   "file_extension": ".py",
   "mimetype": "text/x-python",
   "name": "python",
   "nbconvert_exporter": "python",
   "pygments_lexer": "ipython3",
   "version": "3.9.20"
  }
 },
 "nbformat": 4,
 "nbformat_minor": 2
}
