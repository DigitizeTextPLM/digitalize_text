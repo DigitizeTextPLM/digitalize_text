{
 "cells": [
  {
   "cell_type": "code",
   "execution_count": 40,
   "metadata": {},
   "outputs": [],
   "source": [
    "import pandas as pd\n",
    "import numpy as np\n",
    "import os\n",
    "import re"
   ]
  },
  {
   "cell_type": "code",
   "execution_count": 74,
   "metadata": {},
   "outputs": [
    {
     "name": "stdout",
     "output_type": "stream",
     "text": [
      "['ocr_a02-120.txt', 'ocr_c02-017.txt', 'ocr_b06-068.txt', 'ocr_c02-003.txt', 'ocr_b06-097.txt', 'ocr_a01-020.txt', 'ocr_c03-081d.txt', 'ocr_b01-000.txt', 'ocr_b01-014.txt', 'ocr_a06-100.txt', 'ocr_a06-114.txt', 'ocr_a06-128.txt', 'ocr_a05-000.txt', 'ocr_c03-003e.txt', 'ocr_a04-039.txt', 'ocr_c03-096a.txt', 'ocr_a04-010.txt', 'ocr_a02-082.txt', 'ocr_c03-003d.txt', 'ocr_a01-063x.txt', 'ocr_a05-029.txt', 'ocr_d06-046.txt', 'ocr_d03-117.txt', 'ocr_d06-091.txt', 'ocr_a03-050.txt', 'ocr_c03-007.txt', 'ocr_b04-187.txt', 'ocr_a06-075.txt', 'ocr_c03-081e.txt', 'ocr_b06-082.txt', 'ocr_d04-037.txt', 'ocr_b03-104.txt', 'ocr_c02-000.txt', 'ocr_d04-021.txt', 'ocr_d05-030.txt', 'ocr_a01-043x.txt', 'ocr_c06-020.txt', 'ocr_a05-017.txt', 'ocr_b04-026.txt', 'ocr_d06-050.txt', 'ocr_a02-057.txt', 'ocr_a01-014x.txt', 'ocr_d07-082.txt', 'ocr_c03-003f.txt', 'ocr_d07-096.txt', 'ocr_c03-096c.txt', 'ocr_a04-006.txt', 'ocr_b03-098.txt', 'ocr_c03-096b.txt', 'ocr_a02-042.txt', 'ocr_a01-038x.txt', 'ocr_d06-086.txt', 'ocr_a03-047.txt', 'ocr_b04-147.txt', 'ocr_d05-025.txt', 'ocr_b02-102.txt', 'ocr_a01-113u.txt', 'ocr_c04-044.txt', 'ocr_c04-050.txt', 'ocr_c03-081f.txt', 'ocr_b06-042.txt', 'ocr_d04-008.txt', 'ocr_b06-056.txt', 'ocr_a01-000u.txt', 'ocr_a01-026.txt', 'ocr_c03-081b.txt', 'ocr_d05-021.txt', 'ocr_c06-031.txt', 'ocr_d06-096.txt', 'ocr_d06-082.txt', 'ocr_a03-043.txt', 'ocr_d06-041.txt', 'ocr_a03-080.txt', 'ocr_c03-003c.txt', 'ocr_d07-093.txt', 'ocr_a02-046.txt', 'ocr_c04-134.txt', 'ocr_a04-003.txt', 'ocr_c03-096f.txt', 'ocr_b05-032.txt', 'ocr_a02-090.txt', 'ocr_a01-128u.txt', 'ocr_a01-082u.txt', 'ocr_b04-208.txt', 'ocr_a02-053.txt', 'ocr_c03-003b.txt', 'ocr_a05-013.txt', 'ocr_d05-008.txt', 'ocr_b04-195.txt', 'ocr_b04-181.txt', 'ocr_b06-090.txt', 'ocr_c03-081c.txt', 'ocr_a01-003x.txt', 'ocr_b06-053.txt', 'ocr_c04-080.txt', 'ocr_b06-079.txt', 'ocr_c02-012.txt', 'ocr_b06-045.txt', 'ocr_b03-114.txt', 'ocr_c03-081a.txt', 'ocr_b02-105.txt', 'ocr_b04-154.txt', 'ocr_b04-140.txt', 'ocr_a03-054.txt', 'ocr_a03-040.txt', 'ocr_a05-039.txt', 'ocr_d06-056.txt', 'ocr_b04-020.txt', 'ocr_b04-034.txt', 'ocr_d01-016.txt', 'ocr_c01-066.txt', 'ocr_a02-086.txt', 'ocr_c03-096e.txt', 'ocr_a04-000.txt', 'ocr_c03-096d.txt', 'ocr_a02-093.txt', 'ocr_a04-015.txt', 'ocr_c04-122.txt', 'ocr_a02-050.txt', 'ocr_d07-085.txt', 'ocr_c03-003a.txt', 'ocr_a02-078.txt', 'ocr_a05-004.txt', 'ocr_d03-112.txt', 'ocr_a06-110.txt', 'ocr_c06-027.txt', 'ocr_a01-058x.txt', 'ocr_b01-004.txt', 'ocr_b01-038.txt', 'ocr_b04-169.txt', 'ocr_a06-064.txt', 'ocr_a06-070.txt', 'ocr_a01-020u.txt', 'ocr_b06-093.txt', 'ocr_b06-087.txt', 'ocr_a01-030.txt', 'ocr_c04-056.txt', 'ocr_a02-124.txt', 'ocr_a01-132u.txt', 'ocr_a01-077u.txt', 'ocr_c02-007.txt', 'ocr_d04-032.txt', 'ocr_b06-023.txt', 'ocr_d01-104.txt', 'ocr_a01-043.txt', 'ocr_d04-096.txt', 'ocr_a01-053x.txt', 'ocr_c06-083.txt', 'ocr_d06-030.txt', 'ocr_a02-037.txt', 'ocr_a04-099.txt', 'ocr_d04-121.txt', 'ocr_a04-072.txt', 'ocr_a04-066.txt', 'ocr_c01-014.txt', 'ocr_c04-144.txt', 'ocr_c04-150.txt', 'ocr_b05-042.txt', 'ocr_a01-122.txt', 'ocr_a01-011u.txt', 'ocr_d06-025.txt', 'ocr_a05-062.txt', 'ocr_b04-047.txt', 'ocr_a05-089.txt', 'ocr_a03-027.txt', 'ocr_a05-116.txt', 'ocr_b01-062.txt', 'ocr_b01-089.txt', 'ocr_c03-087f.txt', 'ocr_a01-007u.txt', 'ocr_b06-036.txt', 'ocr_c02-049.txt', 'ocr_b06-008.txt', 'ocr_c03-087d.txt', 'ocr_d04-081.txt', 'ocr_a06-000.txt', 'ocr_a06-014.txt', 'ocr_c06-043.txt', 'ocr_a01-049x.txt', 'ocr_a05-048.txt', 'ocr_d06-027.txt', 'ocr_c06-080.txt', 'ocr_b05-083.txt', 'ocr_a02-020.txt', 'ocr_a02-008.txt', 'ocr_d01-098.txt', 'ocr_a04-059.txt', 'ocr_b05-055.txt', 'ocr_c06-095.txt', 'ocr_a03-030.txt', 'ocr_b01-049.txt', 'ocr_c02-089.txt', 'ocr_c03-087e.txt', 'ocr_d04-053.txt', 'ocr_d04-047.txt', 'ocr_b06-019.txt', 'ocr_a01-072x.txt', 'ocr_c04-023.txt', 'ocr_c03-087a.txt', 'ocr_a06-039.txt', 'ocr_b04-134.txt', 'ocr_c06-052.txt', 'ocr_a03-020.txt', 'ocr_a03-034.txt', 'ocr_c06-091.txt', 'ocr_b04-054.txt', 'ocr_b04-040.txt', 'ocr_b05-079.txt', 'ocr_b05-045.txt', 'ocr_b05-050.txt', 'ocr_c04-156.txt', 'ocr_a02-024.txt', 'ocr_a01-122u.txt', 'ocr_a05-058.txt', 'ocr_d06-037.txt', 'ocr_b04-096.txt', 'ocr_c06-047.txt', 'ocr_a03-009.txt', 'ocr_a01-030u.txt', 'ocr_b04-121.txt', 'ocr_a05-104.txt', 'ocr_a06-004.txt', 'ocr_a01-026u.txt', 'ocr_a01-087.txt', 'ocr_d04-050.txt', 'ocr_a01-091.txt', 'ocr_b06-032.txt', 'ocr_c02-059.txt', 'ocr_a04-103.txt', 'ocr_c04-008.txt', 'ocr_c03-087b.txt', 'ocr_a05-099.txt', 'ocr_a03-037.txt', 'ocr_a03-023.txt', 'ocr_a01-102u.txt', 'ocr_a02-032.txt', 'ocr_d01-049.txt', 'ocr_a01-132.txt', 'ocr_a02-027.txt', 'ocr_d04-125.txt', 'ocr_d01-060.txt', 'ocr_a04-089.txt', 'ocr_d04-131.txt', 'ocr_a05-073.txt', 'ocr_d06-008.txt', 'ocr_b01-113.txt', 'ocr_c06-087.txt', 'ocr_d06-020.txt', 'ocr_b04-081.txt', 'ocr_b02-013.txt', 'ocr_b01-073.txt', 'ocr_a05-113.txt', 'ocr_d05-040.txt', 'ocr_c03-087c.txt', 'ocr_a01-053.txt', 'ocr_c04-035.txt', 'ocr_d04-086.txt', 'ocr_b06-027.txt', 'ocr_c03-084b.txt', 'ocr_c04-004.txt', 'ocr_c02-082.txt', 'ocr_a06-036.txt', 'ocr_a01-117u.txt', 'ocr_b04-107.txt', 'ocr_b01-136.txt', 'ocr_b01-122.txt', 'ocr_d06-011.txt', 'ocr_a01-102.txt', 'ocr_a04-047.txt', 'ocr_c01-009.txt', 'ocr_b05-062.txt', 'ocr_c04-170.txt', 'ocr_a01-068u.txt', 'ocr_c04-165.txt', 'ocr_a01-117.txt', 'ocr_a01-087u.txt', 'ocr_d04-101.txt', 'ocr_c03-007f.txt', 'ocr_b05-088.txt', 'ocr_a04-085.txt', 'ocr_a02-017.txt', 'ocr_b04-066.txt', 'ocr_a03-006.txt', 'ocr_a06-157.txt', 'ocr_a05-094.txt', 'ocr_a05-080.txt', 'ocr_b01-057.txt', 'ocr_c06-100.txt', 'ocr_b01-094.txt', 'ocr_c06-128.txt', 'ocr_a01-091u.txt', 'ocr_a01-063.txt', 'ocr_a01-077.txt', 'ocr_c04-039.txt', 'ocr_c03-084c.txt', 'ocr_d04-075.txt', 'ocr_d01-118.txt', 'ocr_b06-015.txt', 'ocr_c02-056.txt', 'ocr_c03-084a.txt', 'ocr_c04-013.txt', 'ocr_a01-049.txt', 'ocr_a01-026x.txt', 'ocr_c06-116.txt', 'ocr_a05-121.txt', 'ocr_a01-030x.txt', 'ocr_b02-035.txt', 'ocr_a06-141.txt', 'ocr_c06-076.txt', 'ocr_a05-069.txt', 'ocr_d01-052.txt', 'ocr_c03-007d.txt', 'ocr_d04-117.txt', 'ocr_a04-050.txt', 'ocr_d01-085.txt', 'ocr_a01-128.txt', 'ocr_b05-074.txt', 'ocr_c03-007e.txt', 'ocr_b03-025.txt', 'ocr_a04-092.txt', 'ocr_a02-000.txt', 'ocr_a03-011.txt', 'ocr_a05-108.txt', 'ocr_a06-008.txt', 'ocr_c06-103.txt', 'ocr_a06-020.txt', 'ocr_d04-089.txt', 'ocr_a01-072u.txt', 'ocr_d04-062.txt', 'ocr_b06-000.txt', 'ocr_d01-123.txt', 'ocr_d04-066.txt', 'ocr_b06-004.txt', 'ocr_a01-058.txt', 'ocr_c03-084d.txt', 'ocr_b01-044.txt', 'ocr_b01-118.txt', 'ocr_d06-003.txt', 'ocr_b04-075.txt', 'ocr_a05-044.txt', 'ocr_c03-007a.txt', 'ocr_a02-004.txt', 'ocr_a04-096.txt', 'ocr_b05-058.txt', 'ocr_a04-069.txt', 'ocr_d01-080.txt', 'ocr_b05-071.txt', 'ocr_a04-054.txt', 'ocr_d01-056.txt', 'ocr_b04-060.txt', 'ocr_a01-049u.txt', 'ocr_a03-014.txt', 'ocr_a05-125.txt', 'ocr_b01-079.txt', 'ocr_b04-128.txt', 'ocr_a06-025.txt', 'ocr_c06-106.txt', 'ocr_c03-084e.txt', 'ocr_c04-017.txt', 'ocr_d04-071.txt', 'ocr_a01-007x.txt', 'ocr_c02-078.txt', 'ocr_b01-084.txt', 'ocr_c06-138.txt', 'ocr_b04-116.txt', 'ocr_b01-053.txt', 'ocr_b04-089.txt', 'ocr_c06-058.txt', 'ocr_a06-147.txt', 'ocr_a05-084.txt', 'ocr_d06-000.txt', 'ocr_b01-127.txt', 'ocr_a05-053.txt', 'ocr_c03-007b.txt', 'ocr_d04-111.txt', 'ocr_b05-098.txt', 'ocr_a01-011x.txt', 'ocr_a04-081.txt', 'ocr_a01-107.txt', 'ocr_b05-067.txt', 'ocr_a01-113.txt', 'ocr_a04-043.txt', 'ocr_c04-160.txt', 'ocr_a02-012.txt', 'ocr_c03-007c.txt', 'ocr_b01-132.txt', 'ocr_d06-015.txt', 'ocr_a06-152.txt', 'ocr_a03-017.txt', 'ocr_b04-103.txt', 'ocr_a01-053u.txt', 'ocr_c06-111.txt', 'ocr_c04-028.txt', 'ocr_c03-084f.txt', 'ocr_c04-000.txt', 'ocr_b06-012.txt', 'ocr_d04-058.txt', 'ocr_c04-098.txt', 'ocr_b06-075.txt', 'ocr_b06-049.txt', 'ocr_a01-132x.txt', 'ocr_c02-022.txt', 'ocr_a01-020x.txt', 'ocr_a01-058u.txt', 'ocr_b01-009.txt', 'ocr_c03-021f.txt', 'ocr_b04-004.txt', 'ocr_b04-010.txt', 'ocr_a05-009.txt', 'ocr_d06-072.txt', 'ocr_b03-087.txt', 'ocr_c03-094a.txt', 'ocr_a04-019.txt', 'ocr_b03-092.txt', 'ocr_a04-031.txt', 'ocr_c03-000a.txt', 'ocr_b06-100.txt', 'ocr_d07-089.txt', 'ocr_d06-067.txt', 'ocr_b02-097.txt', 'ocr_a03-059.txt', 'ocr_a06-134.txt', 'ocr_a03-071.txt', 'ocr_d06-107.txt', 'ocr_d06-113.txt', 'ocr_d05-013.txt', 'ocr_d07-102.txt', 'ocr_c04-066.txt', 'ocr_a01-014.txt', 'ocr_d04-016.txt', 'ocr_c03-016a.txt', 'ocr_d04-028.txt', 'ocr_a02-102.txt', 'ocr_a02-116.txt', 'ocr_a01-003u.txt', 'ocr_c03-016c.txt', 'ocr_c02-035.txt', 'ocr_d07-100.txt', 'ocr_a06-095.txt', 'ocr_d06-111.txt', 'ocr_a01-107u.txt', 'ocr_a03-073.txt', 'ocr_c03-021e.txt', 'ocr_a05-022.txt', 'ocr_a02-062.txt', 'ocr_d01-019.txt', 'ocr_c03-000c.txt', 'ocr_a04-027.txt', 'ocr_c03-094b.txt', 'ocr_c04-110.txt', 'ocr_c04-105.txt', 'ocr_b05-017.txt', 'ocr_c03-094c.txt', 'ocr_c04-139.txt', 'ocr_d01-024.txt', 'ocr_c03-000b.txt', 'ocr_c06-000.txt', 'ocr_c03-021d.txt', 'ocr_c06-014.txt', 'ocr_a03-066.txt', 'ocr_d06-104.txt', 'ocr_b01-023.txt', 'ocr_a06-057.txt', 'ocr_a01-003.txt', 'ocr_c03-016b.txt', 'ocr_a01-000x.txt', 'ocr_c02-030.txt', 'ocr_d04-005.txt', 'ocr_c04-075.txt', 'ocr_c04-061.txt', 'ocr_a01-007.txt', 'ocr_a01-096u.txt', 'ocr_d06-100.txt', 'ocr_b01-033.txt', 'ocr_b04-162.txt', 'ocr_b01-027.txt', 'ocr_a06-090.txt', 'ocr_d06-060.txt', 'ocr_a03-089.txt', 'ocr_c03-000f.txt', 'ocr_a02-067.txt', 'ocr_a02-098.txt', 'ocr_c04-128.txt', 'ocr_c03-094f.txt', 'ocr_a04-023.txt', 'ocr_a02-072.txt', 'ocr_a01-014u.txt', 'ocr_c06-039.txt', 'ocr_a03-063.txt', 'ocr_c03-021a.txt', 'ocr_c06-005.txt', 'ocr_a01-043u.txt', 'ocr_c06-011.txt', 'ocr_a02-106.txt', 'ocr_c03-016e.txt', 'ocr_b03-109.txt', 'ocr_d04-012.txt', 'ocr_b06-064.txt', 'ocr_c04-089.txt', 'ocr_a01-038.txt', 'ocr_a06-044.txt', 'ocr_b01-018.txt', 'ocr_b04-175.txt', 'ocr_c03-021c.txt', 'ocr_a06-124.txt', 'ocr_d06-063.txt', 'ocr_a01-063u.txt', 'ocr_c03-000e.txt', 'ocr_b06-110.txt', 'ocr_c04-116.txt', 'ocr_b05-038.txt', 'ocr_a04-035.txt', 'ocr_c03-094d.txt', 'ocr_c03-094e.txt', 'ocr_b04-202.txt', 'ocr_c03-000d.txt', 'ocr_a05-025.txt', 'ocr_b04-000.txt', 'ocr_d06-076.txt', 'ocr_b02-045.txt', 'ocr_a06-119.txt', 'ocr_c03-021b.txt', 'ocr_a06-051.txt', 'ocr_a01-011.txt', 'ocr_b06-071.txt', 'ocr_a02-111.txt', 'ocr_c02-026.txt', 'ocr_c03-016d.txt', 'ocr_b06-059.txt']\n",
      "0\n",
      "\n",
      "The possibility that the Government might invoke the Public Order Act, 1936, and\n",
      "declare the whole rally illegal - whether the demonstrators sit down or not - was being\n",
      "discussed in Whitehall last night. It was last used a year ago, to deal with the St.\n",
      "Pancras rent riots. Today Mr. Butler will have talks with Police Commissioner Sir\n",
      "Joseph Simpson to draw up final plans for the ”Battle of Parliament Square.”\n",
      "\n",
      "he preratetdy Heal Ca Govern] aught\n",
      "auche ta Victlee Cds teh, 1936 , cond\n",
      "tleclore the ctek rally dbgal ~ whither\n",
      "Mhe Abruorstatro ab Monn ot 204 wes\n",
      "targ eccrsed cn bbdilial Lat nighl\n",
      "YU ens earl ered! 2 yoor age , A cleat\n",
      "Ceomninscttee he Sipe dogarn\n",
      "haw «ye sonal gallons for fee , Tif\n",
      "Yo Verltament Guare\"\n",
      "\n",
      "Name:\n",
      "\n"
     ]
    },
    {
     "data": {
      "text/plain": [
       "[]"
      ]
     },
     "execution_count": 74,
     "metadata": {},
     "output_type": "execute_result"
    }
   ],
   "source": [
    "def run_GT_XML_IAM(input_directory, output_directory): \n",
    "    files = files = [f for f in os.listdir(input_directory) if f.endswith('.txt')]\n",
    "    print(files)\n",
    "    #files = [\"ocr_a01-000u.txt\"]\n",
    "    unmatched = []\n",
    "    for file in files: \n",
    "        file_path = input_directory + file\n",
    "        file_open = open(file_path,'r')\n",
    "        contents = file_open.read()\n",
    "        start_marker = \"^Sentence Database \" + \".?\" + file[5:][:-5]\n",
    "        match_header = re.match(start_marker, contents.strip())\n",
    "        if match_header: \n",
    "            content_n_header = contents[match_header.end():]\n",
    "            print(content_n_header)\n",
    "            end_marker = \"Name: .?\"\n",
    "            match_footer = re.match(end_marker, content_n_header)\n",
    "            if match_footer:\n",
    "                contents_n_header_footer = contents_n_header_footer[:len(match_footer.end())]\n",
    "                print(contents_n_header_footer)\n",
    "            file_open.close()\n",
    "            text_name = output_directory + \"cleaned_\" + file[:-5] + \".txt\"\n",
    "            with open(text_name,'w') as f: \n",
    "                f.write(content_n_header)\n",
    "        else: \n",
    "            unmatched.append(file)\n",
    "        return unmatched \n",
    "\n",
    "\n",
    "        \n",
    "        \n",
    "\n",
    "run_GT_XML_IAM('OCR/pre/IAM/formsAD/',\"OCR/pre/IAM_cleaned/formsAD/\")\n"
   ]
  },
  {
   "cell_type": "code",
   "execution_count": 66,
   "metadata": {},
   "outputs": [
    {
     "ename": "NameError",
     "evalue": "name 'unmatched' is not defined",
     "output_type": "error",
     "traceback": [
      "\u001b[0;31m---------------------------------------------------------------------------\u001b[0m",
      "\u001b[0;31mNameError\u001b[0m                                 Traceback (most recent call last)",
      "\u001b[1;32m/Users/amandanitta/Desktop/GitHub/ICS661/digitalize_handwritten/IAM_extract_words.ipynb Cell 3\u001b[0m line \u001b[0;36m1\n\u001b[0;32m----> <a href='vscode-notebook-cell:/Users/amandanitta/Desktop/GitHub/ICS661/digitalize_handwritten/IAM_extract_words.ipynb#W2sZmlsZQ%3D%3D?line=0'>1</a>\u001b[0m \u001b[39mprint\u001b[39m(unmatched)\n",
      "\u001b[0;31mNameError\u001b[0m: name 'unmatched' is not defined"
     ]
    }
   ],
   "source": [
    "print(unmatched)"
   ]
  },
  {
   "cell_type": "code",
   "execution_count": null,
   "metadata": {},
   "outputs": [],
   "source": []
  }
 ],
 "metadata": {
  "kernelspec": {
   "display_name": "Python 3",
   "language": "python",
   "name": "python3"
  },
  "language_info": {
   "codemirror_mode": {
    "name": "ipython",
    "version": 3
   },
   "file_extension": ".py",
   "mimetype": "text/x-python",
   "name": "python",
   "nbconvert_exporter": "python",
   "pygments_lexer": "ipython3",
   "version": "3.12.4"
  }
 },
 "nbformat": 4,
 "nbformat_minor": 2
}
