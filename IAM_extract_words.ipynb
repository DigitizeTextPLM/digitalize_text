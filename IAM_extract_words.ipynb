{
 "cells": [
  {
   "cell_type": "code",
   "execution_count": 40,
   "metadata": {},
   "outputs": [],
   "source": [
    "import pandas as pd\n",
    "import numpy as np\n",
    "import os\n",
    "import re"
   ]
  },
  {
   "cell_type": "code",
   "execution_count": 224,
   "metadata": {},
   "outputs": [],
   "source": [
    "def run_GT_XML_IAM(input_directory, output_directory): \n",
    "    files = files = [f for f in os.listdir(input_directory) if f.endswith('.txt')]\n",
    "    #print(files\n",
    "    #files = [\"ocr_a06-114.txt\"]\n",
    "    unmatched = []\n",
    "    for file in files: \n",
    "        file_path = input_directory + file\n",
    "        file_open = open(file_path,'r')\n",
    "        contents = file_open.read()\n",
    "        #dynamic_part = r\"[A-Za-z]\\s*\\d{2}[-\\s]*\\d{3}\"\n",
    "        start_marker = r\"Sentence Database(\\s?\\;?\\.?\\|?\\'?\\:?\\s?[A-Za-z]{1,3}?\\d{0,2}?[A-Za-z]{0,3}?\\d{1,2}?-\\d{3}?)?\"\n",
    "        # start_marker = \"^Sentence Database .?.?\" + file[5:][:-4]\n",
    "        #start_marker = r\"^Sentence\\s*Database\\s*\" + \".?\" + file[5:][:-4]\n",
    "        #print(\"this is the start marker\",start_marker)\n",
    "        match_header = re.search(start_marker, contents.strip(),re.DOTALL)\n",
    "        #print('this is the match marker',match_header)\n",
    "        if match_header: \n",
    "            #print(match_header)\n",
    "            content_n_header = contents[match_header.end() + 2:]\n",
    "            #print(content_n_header)\n",
    "            end_marker = \"Name:.*\"\n",
    "            match_footer = re.search(end_marker, content_n_header, flags=re.DOTALL)\n",
    "            #print(match_footer)\n",
    "            if match_footer:\n",
    "                contents_n_header_footer = content_n_header[:match_footer.start()]\n",
    "                #print(contents_n_header_footer)\n",
    "            file_open.close()\n",
    "            text_name = output_directory + \"cleaned_\" + file[:-5] + \".txt\"\n",
    "            with open(text_name,'w') as f: \n",
    "                f.write(contents_n_header_footer)\n",
    "        else: \n",
    "            unmatched.append(file)\n",
    "    return unmatched \n",
    "        \n",
    "\n",
    "AD_no = run_GT_XML_IAM('OCR/pre/IAM/formsAD/',\"OCR/pre/IAM_cleaned/formsAD/\")\n",
    "EH_no = run_GT_XML_IAM('OCR/pre/IAM/formsEH/',\"OCR/pre/IAM_cleaned/formsEH/\")\n",
    "lZ_no = run_GT_XML_IAM('OCR/pre/IAM/formsIZ/',\"OCR/pre/IAM_cleaned/formsIZ/\")\n"
   ]
  },
  {
   "cell_type": "code",
   "execution_count": 225,
   "metadata": {},
   "outputs": [
    {
     "data": {
      "text/plain": [
       "[]"
      ]
     },
     "execution_count": 225,
     "metadata": {},
     "output_type": "execute_result"
    }
   ],
   "source": [
    "lZ_no"
   ]
  },
  {
   "cell_type": "code",
   "execution_count": null,
   "metadata": {},
   "outputs": [],
   "source": []
  }
 ],
 "metadata": {
  "kernelspec": {
   "display_name": "Python 3",
   "language": "python",
   "name": "python3"
  },
  "language_info": {
   "codemirror_mode": {
    "name": "ipython",
    "version": 3
   },
   "file_extension": ".py",
   "mimetype": "text/x-python",
   "name": "python",
   "nbconvert_exporter": "python",
   "pygments_lexer": "ipython3",
   "version": "3.12.4"
  }
 },
 "nbformat": 4,
 "nbformat_minor": 2
}
