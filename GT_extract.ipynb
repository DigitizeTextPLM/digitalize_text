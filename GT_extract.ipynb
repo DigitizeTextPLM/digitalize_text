{
 "cells": [
  {
   "cell_type": "code",
   "execution_count": 11,
   "metadata": {},
   "outputs": [],
   "source": [
    "import numpy as np \n",
    "import pandas as pd\n",
    "import os\n",
    "from xml.dom import minidom"
   ]
  },
  {
   "cell_type": "code",
   "execution_count": 47,
   "metadata": {},
   "outputs": [],
   "source": [
    "# IAM databse\n",
    "def run_GT_XML_IAM(input_directory, output_directory): \n",
    "    files = files = [f for f in os.listdir(input_directory) if f.endswith('.xml')]\n",
    "    #files = [\"a01-000u.xml\"]\n",
    "    for file in files: \n",
    "        file_path = input_directory + file\n",
    "        file_create = minidom.parse(file_path)\n",
    "        model = file_create.getElementsByTagName('machine-print-line')\n",
    "        text = \"\"\n",
    "        for i in range(len(model)):\n",
    "            text += model[i].attributes['text'].value\n",
    "        text_name = output_directory + \"GT_\" + file[:-4] + \".txt\"\n",
    "        with open(text_name,'w') as f: \n",
    "            f.write(text)"
   ]
  },
  {
   "cell_type": "code",
   "execution_count": 39,
   "metadata": {},
   "outputs": [],
   "source": [
    "run_GT_XML_IAM(\"data/IAM_database/GT/XML/\",\"data/IAM_database/GT/GT_extract/\")"
   ]
  },
  {
   "cell_type": "code",
   "execution_count": 12,
   "metadata": {},
   "outputs": [
    {
     "name": "stdout",
     "output_type": "stream",
     "text": [
      "A MOVE to stop Mr. Gaitskell from nominating any more Labour life Peers is to\n",
      "4\n"
     ]
    }
   ],
   "source": [
    "# parse an xml file by name\n",
    "file = minidom.parse('/Users/amandanitta/Desktop/GitHub/ICS661/digitalize_handwritten/data/IAM_database/GT/xml/a01-000u.xml')\n",
    "\n",
    "#use getElementsByTagName() to get tag\n",
    "models = file.getElementsByTagName('machine-print-line')\n",
    "\n",
    "# one specific item attribute\n",
    "print(models[0].attributes['text'].value)\n",
    "print(len(models))"
   ]
  },
  {
   "cell_type": "code",
   "execution_count": 48,
   "metadata": {},
   "outputs": [],
   "source": [
    "def run_GT_XML_Bentham(input_directory, output_directory): \n",
    "    files = files = [f for f in os.listdir(input_directory) if f.endswith('.xml')]\n",
    "    #files = [\"a01-000u.xml\"]\n",
    "    for file in files: \n",
    "        file_path = input_directory + file\n",
    "        file_create = minidom.parse(file_path)\n",
    "        model = file_create.getElementsByTagName('TextEquiv')\n",
    "        text = \"\"\n",
    "\n",
    "        for i, text_equiv in enumerate(model):\n",
    "            unicode_elements = text_equiv.getElementsByTagName('Unicode')\n",
    "            if unicode_elements:\n",
    "                text += unicode_elements[0].firstChild.nodeValue\n",
    "        \n",
    "        text_name = output_directory + \"GT_\" + file[:-4] + \".txt\"\n",
    "        with open(text_name,'w') as f: \n",
    "            f.write(text)"
   ]
  },
  {
   "cell_type": "code",
   "execution_count": 50,
   "metadata": {},
   "outputs": [],
   "source": [
    "run_GT_XML_Bentham(\"data/BenthamDataset/GT/PAGE/\",\"data/BenthamDataset/GT/GT_Extracted/\")"
   ]
  },
  {
   "cell_type": "code",
   "execution_count": 46,
   "metadata": {},
   "outputs": [
    {
     "name": "stdout",
     "output_type": "stream",
     "text": [
      "TextEquiv 0: 36\n",
      "TextEquiv 1: 6. The evidence of the engagement, consigned to a portable \n",
      "TextEquiv 2: instrument, instead of a fixed Book. _ Taken from Exche-\n",
      "TextEquiv 3: quer Bills,_ Differs from Stock Annuities _ Agrees with \n",
      "TextEquiv 4: Irish Debentures, and the now disused Navy Victu-\n",
      "TextEquiv 5: alling Transport and Ordnance Bills or Debentures: _ \n",
      "TextEquiv 6: also with India Bonds, Bank Notes, Banker's Promissory \n",
      "TextEquiv 7: Notes; and private Promissory Notes and Bills of Exchange. \n",
      "TextEquiv 8: 7. The Paper, by its size, shape, texture, are thinness, par-\n",
      "TextEquiv 9: -ticularly fitted for circulation _ Taken from Bank Paper. \n",
      "TextEquiv 10: Agrees more or less with Bankers Paper and with \n",
      "TextEquiv 11: the French Assignats. Differs from all the other above \n",
      "TextEquiv 12: mentioned Engagements: _- Eexcept from some late issues \n",
      "TextEquiv 13: of Exchequer Bills, in respect of size. _ \n",
      "TextEquiv 14: 8. Application of the profit of the measure towards the \n",
      "TextEquiv 15: reduction of the National Debt. _ Taken from the Sale \n",
      "TextEquiv 16: of the Land Tax i:e: the exchange of so many portions \n",
      "TextEquiv 17: of the annual produce of that Tax for the portions of \n",
      "TextEquiv 18: Stock Annuities. Differs from all the other engagements \n",
      "TextEquiv 19: above mentioned._ \n",
      "TextEquiv 20: 16 Aug 1800\n"
     ]
    }
   ],
   "source": [
    "# benthalm dataset\n",
    "\n",
    "# parse an xml file by name\n",
    "file = minidom.parse('data/BenthamDataset/GT/PAGE/002_080_001.xml')\n",
    "\n",
    "text_equivs = file.getElementsByTagName('TextEquiv')\n",
    "\n",
    "for idx, text_equiv in enumerate(text_equivs):\n",
    "    unicode_elements = text_equiv.getElementsByTagName('Unicode')\n",
    "    if unicode_elements:\n",
    "        unicode_value = unicode_elements[0].firstChild.nodeValue"
   ]
  },
  {
   "cell_type": "code",
   "execution_count": null,
   "metadata": {},
   "outputs": [],
   "source": []
  }
 ],
 "metadata": {
  "kernelspec": {
   "display_name": "Python 3",
   "language": "python",
   "name": "python3"
  },
  "language_info": {
   "codemirror_mode": {
    "name": "ipython",
    "version": 3
   },
   "file_extension": ".py",
   "mimetype": "text/x-python",
   "name": "python",
   "nbconvert_exporter": "python",
   "pygments_lexer": "ipython3",
   "version": "3.12.4"
  }
 },
 "nbformat": 4,
 "nbformat_minor": 2
}
