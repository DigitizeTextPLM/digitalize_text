{
 "cells": [
  {
   "cell_type": "code",
   "execution_count": 25,
   "metadata": {},
   "outputs": [],
   "source": [
    "# !pip install pytesseract\n",
    "\n",
    "# # https://github.com/madmaze/pytesseract"
   ]
  },
  {
   "cell_type": "code",
   "execution_count": 26,
   "metadata": {},
   "outputs": [],
   "source": [
    "# !pip install tesseract"
   ]
  },
  {
   "cell_type": "code",
   "execution_count": 27,
   "metadata": {},
   "outputs": [],
   "source": [
    "#  for CL: tesseract imagename outputbase [options...] [configfile...]"
   ]
  },
  {
   "cell_type": "code",
   "execution_count": 28,
   "metadata": {},
   "outputs": [
    {
     "data": {
      "text/plain": [
       "'/Users/amandanitta/Desktop/GitHub/ICS661/digitalize_handwritten'"
      ]
     },
     "execution_count": 28,
     "metadata": {},
     "output_type": "execute_result"
    }
   ],
   "source": [
    "import os\n",
    "os.getcwd()"
   ]
  },
  {
   "cell_type": "code",
   "execution_count": 29,
   "metadata": {},
   "outputs": [],
   "source": [
    "import pytesseract\n",
    "from PIL import Image"
   ]
  },
  {
   "cell_type": "code",
   "execution_count": 30,
   "metadata": {},
   "outputs": [],
   "source": [
    "pytesseract.pytesseract.tesseract_cmd  = r'/opt/homebrew/bin/tesseract'"
   ]
  },
  {
   "cell_type": "code",
   "execution_count": 31,
   "metadata": {},
   "outputs": [
    {
     "name": "stdout",
     "output_type": "stream",
     "text": [
      "Sentence Database A01-000\n",
      "\n",
      "A MOVE to stop Mr. Gaitskell from nominating any more Labour life Peers is to\n",
      "be made at a meeting of Labour M Ps tomorrow. Mr. Michael Foot has put down\n",
      "a resolution on the subject and he is to be backed by Mr. Will Griffiths, M P for\n",
      "Manchester Exchange.\n",
      "\n",
      "k MOVE to stoe Mr. Gariblkedl from\n",
      "\n",
      "KO HOI wae Oud WOWR Lofowr Ufle_ “Poors\n",
      "\n",
      "wo to B2 wade aka medhua af Le Doar\n",
      "MPs toucrronro, My, Michael Fook Kay\n",
      "pre Aown a vesolition on the sudiody\n",
      "Onr Wo do Va. backeHR by Mer, Wit\n",
      "\n",
      "GafhUs , WP Ror Moncrodes Cerorrange _\n",
      "\n",
      "Name:\n",
      "\n",
      "\n"
     ]
    }
   ],
   "source": [
    "img = Image.open('data/IAM_database/formsA-D/a01-000u.png')  # Replace with an actual image path\n",
    "text = pytesseract.image_to_string(img)\n",
    "print(text)"
   ]
  },
  {
   "cell_type": "code",
   "execution_count": 32,
   "metadata": {},
   "outputs": [],
   "source": [
    "import os\n",
    "def run_tesseract_on_images(input_directory, output_directory):\n",
    "    # gets list of all files in directory: note needs to be in directory with all images\n",
    "    files = [f for f in os.listdir(input_directory) if f.endswith('.png') or f.endswith('.jpg')]\n",
    "\n",
    "    # opens files and extracts text and saves to txt\n",
    "    for i in files:\n",
    "        file_loc = input_directory + '/' + i\n",
    "        img = Image.open(file_loc)\n",
    "        text = pytesseract.image_to_string(img)\n",
    "        text_name = output_directory + \"ocr_\" + i[:-4] + \".txt\"\n",
    "        with open(text_name,'w') as f: \n",
    "            f.write(text)"
   ]
  },
  {
   "cell_type": "code",
   "execution_count": 37,
   "metadata": {},
   "outputs": [],
   "source": [
    "run_tesseract_on_images(\"data/IAM_database/formsA-D/\", \"OCR/pre/IAM/formsAD/\")"
   ]
  },
  {
   "cell_type": "code",
   "execution_count": null,
   "metadata": {},
   "outputs": [],
   "source": [
    "run_tesseract_on_images(\"data/IAM_database/formsE-H/\", \"OCR/pre/IAM/formsEH/\")"
   ]
  },
  {
   "cell_type": "code",
   "execution_count": null,
   "metadata": {},
   "outputs": [],
   "source": [
    "run_tesseract_on_images(\"data/IAM_database/formsI-Z\", \"OCR/pre/IAM/formsIZ/\")"
   ]
  },
  {
   "cell_type": "code",
   "execution_count": null,
   "metadata": {},
   "outputs": [],
   "source": [
    "run_tesseract_on_images(\"data/BenthamDataset/Pages/\", \"OCR/pre/Bentham/\")"
   ]
  },
  {
   "cell_type": "markdown",
   "metadata": {},
   "source": [
    "# IAM Database"
   ]
  },
  {
   "cell_type": "code",
   "execution_count": 36,
   "metadata": {},
   "outputs": [],
   "source": [
    "def run_tesseract_on_images(input_directory, output_directory):\n",
    "    # gets list of all files in directory: note needs to be in directory with all images\n",
    "    directories = [d for d in os.listdir(input_directory) if os.path.isdir(os.path.join(input_directory, d))]\n",
    "    \n",
    "    for directory in directories: \n",
    "        director = input_directory + '/' + directory\n",
    "        dir = [d for d in os.listdir(director) if os.path.isdir(os.path.join(director, d))]\n",
    "        #print(dir)\n",
    "        for di in dir: \n",
    "            i = director + '/' + di\n",
    "            files = [f for f in os.listdir(i) if f.endswith('.png') or f.endswith('.jpg')]\n",
    "            whole_text = \"\"\n",
    "            for id in files: \n",
    "                file_loc = i + \"/\" + id\n",
    "                #print(file_loc)\n",
    "                img = Image.open(file_loc)\n",
    "                text = pytesseract.image_to_string(img)\n",
    "                whole_text += text\n",
    "            cleaned_text = whole_text.replace('\\n', \" \")\n",
    "            #print(cleaned_text)\n",
    "            #text_name = output_directory + '/' + \"ocr_\" + di + '.txt'\n",
    "            text_name = \"\"\n",
    "            if id[0] == \"a\" or id[0] <= \"d\":\n",
    "                text_name = output_directory + 'formsAD/' + 'ocr_' + di + \".txt\" \n",
    "            elif id[0] == 'e' or id[0] <= 'h':\n",
    "                text_name = output_directory + 'formsEH/' + 'ocr_' + di + \".txt\" \n",
    "            elif id[0] == 'i' or id[0] <= 'z':\n",
    "                text_name = output_directory + 'formsIZ/' + 'ocr_' + di + \".txt\" \n",
    "            #print(f\"\\n {text_name}\")\n",
    "            with open(text_name, 'w') as f: \n",
    "                f.write(cleaned_text)\n",
    "\n",
    "run_tesseract_on_images(\"data/IAM_database/lines\", \"OCR/final/IAM/\")"
   ]
  }
 ],
 "metadata": {
  "kernelspec": {
   "display_name": "Python 3",
   "language": "python",
   "name": "python3"
  },
  "language_info": {
   "codemirror_mode": {
    "name": "ipython",
    "version": 3
   },
   "file_extension": ".py",
   "mimetype": "text/x-python",
   "name": "python",
   "nbconvert_exporter": "python",
   "pygments_lexer": "ipython3",
   "version": "3.12.4"
  }
 },
 "nbformat": 4,
 "nbformat_minor": 2
}
