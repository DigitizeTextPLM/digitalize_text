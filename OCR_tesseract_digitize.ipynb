{
 "cells": [
  {
   "cell_type": "code",
   "execution_count": 25,
   "metadata": {},
   "outputs": [],
   "source": [
    "# !pip install pytesseract\n",
    "\n",
    "# # https://github.com/madmaze/pytesseract"
   ]
  },
  {
   "cell_type": "code",
   "execution_count": 26,
   "metadata": {},
   "outputs": [],
   "source": [
    "# !pip install tesseract"
   ]
  },
  {
   "cell_type": "code",
   "execution_count": 27,
   "metadata": {},
   "outputs": [],
   "source": [
    "#  for CL: tesseract imagename outputbase [options...] [configfile...]"
   ]
  },
  {
   "cell_type": "code",
   "execution_count": 28,
   "metadata": {},
   "outputs": [
    {
     "data": {
      "text/plain": [
       "'/Users/amandanitta/Desktop/GitHub/ICS661/digitalize_handwritten'"
      ]
     },
     "execution_count": 28,
     "metadata": {},
     "output_type": "execute_result"
    }
   ],
   "source": [
    "import os\n",
    "os.getcwd()"
   ]
  },
  {
   "cell_type": "code",
   "execution_count": 29,
   "metadata": {},
   "outputs": [],
   "source": [
    "import pytesseract\n",
    "from PIL import Image"
   ]
  },
  {
   "cell_type": "code",
   "execution_count": 30,
   "metadata": {},
   "outputs": [],
   "source": [
    "pytesseract.pytesseract.tesseract_cmd  = r'/opt/homebrew/bin/tesseract'"
   ]
  },
  {
   "cell_type": "code",
   "execution_count": 31,
   "metadata": {},
   "outputs": [
    {
     "name": "stdout",
     "output_type": "stream",
     "text": [
      "Sentence Database A01-000\n",
      "\n",
      "A MOVE to stop Mr. Gaitskell from nominating any more Labour life Peers is to\n",
      "be made at a meeting of Labour M Ps tomorrow. Mr. Michael Foot has put down\n",
      "a resolution on the subject and he is to be backed by Mr. Will Griffiths, M P for\n",
      "Manchester Exchange.\n",
      "\n",
      "k MOVE to stoe Mr. Gariblkedl from\n",
      "\n",
      "KO HOI wae Oud WOWR Lofowr Ufle_ “Poors\n",
      "\n",
      "wo to B2 wade aka medhua af Le Doar\n",
      "MPs toucrronro, My, Michael Fook Kay\n",
      "pre Aown a vesolition on the sudiody\n",
      "Onr Wo do Va. backeHR by Mer, Wit\n",
      "\n",
      "GafhUs , WP Ror Moncrodes Cerorrange _\n",
      "\n",
      "Name:\n",
      "\n",
      "\n"
     ]
    }
   ],
   "source": [
    "img = Image.open('data/IAM_database/formsA-D/a01-000u.png')  # Replace with an actual image path\n",
    "text = pytesseract.image_to_string(img)\n",
    "print(text)"
   ]
  },
  {
   "cell_type": "code",
   "execution_count": 32,
   "metadata": {},
   "outputs": [],
   "source": [
    "import os\n",
    "def run_tesseract_on_images(input_directory, output_directory):\n",
    "    # gets list of all files in directory: note needs to be in directory with all images\n",
    "    files = [f for f in os.listdir(input_directory) if f.endswith('.png') or f.endswith('.jpg')]\n",
    "\n",
    "    # opens files and extracts text and saves to txt\n",
    "    for i in files:\n",
    "        file_loc = input_directory + '/' + i\n",
    "        img = Image.open(file_loc)\n",
    "        text = pytesseract.image_to_string(img)\n",
    "        text_name = output_directory + \"ocr_\" + i[:-4] + \".txt\"\n",
    "        with open(text_name,'w') as f: \n",
    "            f.write(text)"
   ]
  },
  {
   "cell_type": "code",
   "execution_count": 33,
   "metadata": {},
   "outputs": [
    {
     "ename": "FileNotFoundError",
     "evalue": "[Errno 2] No such file or directory: 'OCR/pre/IAM/formsAD/ocr_a04-006.txt'",
     "output_type": "error",
     "traceback": [
      "\u001b[0;31m---------------------------------------------------------------------------\u001b[0m",
      "\u001b[0;31mFileNotFoundError\u001b[0m                         Traceback (most recent call last)",
      "\u001b[1;32m/Users/amandanitta/Desktop/GitHub/ICS661/digitalize_handwritten/OCR_tesseract_digitize.ipynb Cell 9\u001b[0m line \u001b[0;36m1\n\u001b[0;32m----> <a href='vscode-notebook-cell:/Users/amandanitta/Desktop/GitHub/ICS661/digitalize_handwritten/OCR_tesseract_digitize.ipynb#X11sZmlsZQ%3D%3D?line=0'>1</a>\u001b[0m run_tesseract_on_images(\u001b[39m\"\u001b[39m\u001b[39mdata/IAM_database/formsA-D/\u001b[39m\u001b[39m\"\u001b[39m, \u001b[39m\"\u001b[39m\u001b[39mOCR/pre/IAM/formsAD/\u001b[39m\u001b[39m\"\u001b[39m)\n",
      "\u001b[1;32m/Users/amandanitta/Desktop/GitHub/ICS661/digitalize_handwritten/OCR_tesseract_digitize.ipynb Cell 9\u001b[0m line \u001b[0;36m1\n\u001b[1;32m     <a href='vscode-notebook-cell:/Users/amandanitta/Desktop/GitHub/ICS661/digitalize_handwritten/OCR_tesseract_digitize.ipynb#X11sZmlsZQ%3D%3D?line=9'>10</a>\u001b[0m text \u001b[39m=\u001b[39m pytesseract\u001b[39m.\u001b[39mimage_to_string(img)\n\u001b[1;32m     <a href='vscode-notebook-cell:/Users/amandanitta/Desktop/GitHub/ICS661/digitalize_handwritten/OCR_tesseract_digitize.ipynb#X11sZmlsZQ%3D%3D?line=10'>11</a>\u001b[0m text_name \u001b[39m=\u001b[39m output_directory \u001b[39m+\u001b[39m \u001b[39m\"\u001b[39m\u001b[39mocr_\u001b[39m\u001b[39m\"\u001b[39m \u001b[39m+\u001b[39m i[:\u001b[39m-\u001b[39m\u001b[39m4\u001b[39m] \u001b[39m+\u001b[39m \u001b[39m\"\u001b[39m\u001b[39m.txt\u001b[39m\u001b[39m\"\u001b[39m\n\u001b[0;32m---> <a href='vscode-notebook-cell:/Users/amandanitta/Desktop/GitHub/ICS661/digitalize_handwritten/OCR_tesseract_digitize.ipynb#X11sZmlsZQ%3D%3D?line=11'>12</a>\u001b[0m \u001b[39mwith\u001b[39;00m \u001b[39mopen\u001b[39m(text_name,\u001b[39m'\u001b[39m\u001b[39mw\u001b[39m\u001b[39m'\u001b[39m) \u001b[39mas\u001b[39;00m f: \n\u001b[1;32m     <a href='vscode-notebook-cell:/Users/amandanitta/Desktop/GitHub/ICS661/digitalize_handwritten/OCR_tesseract_digitize.ipynb#X11sZmlsZQ%3D%3D?line=12'>13</a>\u001b[0m     f\u001b[39m.\u001b[39mwrite(text)\n",
      "File \u001b[0;32m/opt/homebrew/anaconda3/lib/python3.12/site-packages/IPython/core/interactiveshell.py:324\u001b[0m, in \u001b[0;36m_modified_open\u001b[0;34m(file, *args, **kwargs)\u001b[0m\n\u001b[1;32m    317\u001b[0m \u001b[39mif\u001b[39;00m file \u001b[39min\u001b[39;00m {\u001b[39m0\u001b[39m, \u001b[39m1\u001b[39m, \u001b[39m2\u001b[39m}:\n\u001b[1;32m    318\u001b[0m     \u001b[39mraise\u001b[39;00m \u001b[39mValueError\u001b[39;00m(\n\u001b[1;32m    319\u001b[0m         \u001b[39mf\u001b[39m\u001b[39m\"\u001b[39m\u001b[39mIPython won\u001b[39m\u001b[39m'\u001b[39m\u001b[39mt let you open fd=\u001b[39m\u001b[39m{\u001b[39;00mfile\u001b[39m}\u001b[39;00m\u001b[39m by default \u001b[39m\u001b[39m\"\u001b[39m\n\u001b[1;32m    320\u001b[0m         \u001b[39m\"\u001b[39m\u001b[39mas it is likely to crash IPython. If you know what you are doing, \u001b[39m\u001b[39m\"\u001b[39m\n\u001b[1;32m    321\u001b[0m         \u001b[39m\"\u001b[39m\u001b[39myou can use builtins\u001b[39m\u001b[39m'\u001b[39m\u001b[39m open.\u001b[39m\u001b[39m\"\u001b[39m\n\u001b[1;32m    322\u001b[0m     )\n\u001b[0;32m--> 324\u001b[0m \u001b[39mreturn\u001b[39;00m io_open(file, \u001b[39m*\u001b[39margs, \u001b[39m*\u001b[39m\u001b[39m*\u001b[39mkwargs)\n",
      "\u001b[0;31mFileNotFoundError\u001b[0m: [Errno 2] No such file or directory: 'OCR/pre/IAM/formsAD/ocr_a04-006.txt'"
     ]
    }
   ],
   "source": [
    "run_tesseract_on_images(\"data/IAM_database/formsA-D/\", \"OCR/pre/IAM/formsAD/\")"
   ]
  },
  {
   "cell_type": "code",
   "execution_count": null,
   "metadata": {},
   "outputs": [],
   "source": [
    "run_tesseract_on_images(\"data/IAM_database/formsE-H/\", \"OCR/pre/IAM/formsEH/\")"
   ]
  },
  {
   "cell_type": "code",
   "execution_count": null,
   "metadata": {},
   "outputs": [],
   "source": [
    "run_tesseract_on_images(\"data/IAM_database/formsI-Z\", \"OCR/pre/IAM/formsIZ/\")"
   ]
  },
  {
   "cell_type": "code",
   "execution_count": null,
   "metadata": {},
   "outputs": [],
   "source": [
    "run_tesseract_on_images(\"data/BenthamDataset/Pages/\", \"OCR/pre/Bentham/\")"
   ]
  },
  {
   "cell_type": "markdown",
   "metadata": {},
   "source": [
    "# IAM Database"
   ]
  },
  {
   "cell_type": "code",
   "execution_count": 36,
   "metadata": {},
   "outputs": [],
   "source": [
    "def run_tesseract_on_images(input_directory, output_directory):\n",
    "    # gets list of all files in directory: note needs to be in directory with all images\n",
    "    directories = [d for d in os.listdir(input_directory) if os.path.isdir(os.path.join(input_directory, d))]\n",
    "    \n",
    "    for directory in directories: \n",
    "        director = input_directory + '/' + directory\n",
    "        dir = [d for d in os.listdir(director) if os.path.isdir(os.path.join(director, d))]\n",
    "        #print(dir)\n",
    "        for di in dir: \n",
    "            i = director + '/' + di\n",
    "            files = [f for f in os.listdir(i) if f.endswith('.png') or f.endswith('.jpg')]\n",
    "            whole_text = \"\"\n",
    "            for id in files: \n",
    "                file_loc = i + \"/\" + id\n",
    "                #print(file_loc)\n",
    "                img = Image.open(file_loc)\n",
    "                text = pytesseract.image_to_string(img)\n",
    "                whole_text += text\n",
    "            cleaned_text = whole_text.replace('\\n', \" \")\n",
    "            #print(cleaned_text)\n",
    "            #text_name = output_directory + '/' + \"ocr_\" + di + '.txt'\n",
    "            text_name = \"\"\n",
    "            if id[0] == \"a\" or id[0] <= \"d\":\n",
    "                text_name = output_directory + 'formsAD/' + 'ocr_' + di + \".txt\" \n",
    "            elif id[0] == 'e' or id[0] <= 'h':\n",
    "                text_name = output_directory + 'formsEH/' + 'ocr_' + di + \".txt\" \n",
    "            elif id[0] == 'i' or id[0] <= 'z':\n",
    "                text_name = output_directory + 'formsIZ/' + 'ocr_' + di + \".txt\" \n",
    "            #print(f\"\\n {text_name}\")\n",
    "            with open(text_name, 'w') as f: \n",
    "                f.write(cleaned_text)\n",
    "\n",
    "run_tesseract_on_images(\"data/IAM_database/lines\", \"OCR/final/IAM/\")"
   ]
  },
  {
   "cell_type": "code",
   "execution_count": null,
   "metadata": {},
   "outputs": [],
   "source": []
  }
 ],
 "metadata": {
  "kernelspec": {
   "display_name": "Python 3",
   "language": "python",
   "name": "python3"
  },
  "language_info": {
   "codemirror_mode": {
    "name": "ipython",
    "version": 3
   },
   "file_extension": ".py",
   "mimetype": "text/x-python",
   "name": "python",
   "nbconvert_exporter": "python",
   "pygments_lexer": "ipython3",
   "version": "3.12.4"
  }
 },
 "nbformat": 4,
 "nbformat_minor": 2
}
