{
 "cells": [
  {
   "cell_type": "markdown",
   "metadata": {},
   "source": [
    "# Perform OCR on SmartDoc documents\n",
    "Performs OCR using tesseract on SmartDoc documents"
   ]
  },
  {
   "cell_type": "code",
   "execution_count": null,
   "metadata": {},
   "outputs": [],
   "source": [
    "import os\n",
    "from tqdm import tqdm\n",
    "from glob import glob\n",
    "import pytesseract\n",
    "from PIL import Image\n",
    "import matplotlib.pyplot as plt\n",
    "import numpy as np"
   ]
  },
  {
   "cell_type": "code",
   "execution_count": null,
   "metadata": {},
   "outputs": [],
   "source": [
    "pytesseract.pytesseract.tesseract_cmd  = r'C:\\*\\Tesseract-OCR\\tesseract.exe'"
   ]
  },
  {
   "cell_type": "code",
   "execution_count": null,
   "metadata": {},
   "outputs": [],
   "source": [
    "def add_gaussian_noise(img:Image, mean=0, std=50) -> Image:\n",
    "    img_array = np.asarray(img, dtype=np.float32)\n",
    "    noise = np.random.normal(mean, std, img_array.shape)\n",
    "    noisy_img_array = np.clip(img_array + noise, 0, 255).astype(np.uint8)\n",
    "    return Image.fromarray(noisy_img_array)\n",
    "\n",
    "\n",
    "def drop_resolution(img, scale_factor=8):\n",
    "\n",
    "    new_width = img.width // scale_factor\n",
    "    new_height = img.height // scale_factor\n",
    "    low_res_img = img.resize((new_width, new_height), Image.Resampling.BOX)  # Downscale\n",
    "    restored_img = low_res_img.resize(img.size, Image.Resampling.NEAREST)   # Upscale\n",
    "    \n",
    "    return restored_img\n",
    "\n",
    "def crop(img:Image, size=300) -> Image:\n",
    "    width, height = img.size\n",
    "    left = (width - size) // 2\n",
    "    top = (height - size) // 2\n",
    "    right = left + size\n",
    "    bottom = top + size\n",
    "\n",
    "    return img.crop((left, top, right, bottom))\n",
    "\n",
    "def get_text_SmartDoc(fn, scale_factor=None, plot=False, ocr=True):\n",
    "    img = Image.open(fn)  \n",
    "    img = img.rotate(-90, expand=True) # the images for this datasets are all sideways\n",
    "    if not scale_factor is None:\n",
    "        img = drop_resolution(img, scale_factor=scale_factor)\n",
    "    if plot:\n",
    "        fig, axes = plt.subplots(nrows=1, ncols=2)\n",
    "        axes[0].imshow(crop(img))\n",
    "        axes[0].axis('off')  \n",
    "        axes[1].imshow(img)\n",
    "        axes[1].axis('off') \n",
    "        plt.show()\n",
    "    if ocr:\n",
    "        return pytesseract.image_to_string(img)\n",
    "\n",
    "\n",
    "def save_SmartDoc_ocr(fn, save_path, scale_falctor=None, plot=False):\n",
    "    text = get_text_SmartDoc(fn, scale_factor=scale_falctor, plot=plot)\n",
    "    file_path = os.path.join(save_path, f\"{os.path.basename(fn).replace('.jpg', '')}.txt\")\n",
    "    with open(file_path, \"w\") as file:\n",
    "        file.write(text)\n",
    "\n",
    "\n",
    "save_path = r'*'\n",
    "input_path = r'*'\n",
    "\n",
    "input_fns = glob(os.path.join(input_path, '*.jpg'))\n",
    "\n",
    "for input_fn in tqdm(input_fns):\n",
    "    save_SmartDoc_ocr(input_fn, save_path=save_path)"
   ]
  }
 ],
 "metadata": {
  "language_info": {
   "name": "python"
  }
 },
 "nbformat": 4,
 "nbformat_minor": 2
}
